{
 "cells": [
  {
   "cell_type": "markdown",
   "id": "cc3ac316",
   "metadata": {
    "papermill": {
     "duration": 0.0098,
     "end_time": "2025-06-30T15:09:56.125416",
     "exception": false,
     "start_time": "2025-06-30T15:09:56.115616",
     "status": "completed"
    },
    "tags": []
   },
   "source": [
    "# 📊 Employee Attrition Analysis and Prediction – Part 1: Data Preprocessing\n",
    "\n",
    "This notebook presents the **data preprocessing** step in a full end-to-end pipeline to analyze and predict employee attrition using the IBM HR Analytics dataset. Preparing the data is a crucial first step before conducting exploratory analysis or building predictive models.\n",
    "\n",
    "This notebook is **Part 1 of 3**, focusing on:\n",
    "- Cleaning and transforming the data\n",
    "- Handling missing values\n",
    "- Encoding categorical variables\n",
    "- Exporting the cleaned dataset for later analysis\n",
    "\n",
    "---\n",
    "\n",
    "## 🔄 Notebook Series Overview:\n",
    "\n",
    "🧹 **Part 1 – Data Preprocessing** _(this notebook)_\n",
    "- Handle missing values\n",
    "- Encode categorical features\n",
    "- Export clean dataset\n",
    "\n",
    "📊 **Part 2 – Exploratory Data Analysis (EDA)** _(coming soon)_\n",
    "- Visualize distributions and relationships\n",
    "- Explore attrition patterns by feature\n",
    "\n",
    "🤖 **Part 3 – Predictive Modeling & Insights** _(coming soon)_\n",
    "- Build and evaluate ML models (Logistic Regression, Random Forest, XGBoost)\n",
    "- Optimize performance and extract actionable HR insights\n",
    "\n",
    "---\n",
    "\n",
    "## 📁 Dataset:\n",
    "- Source: [IBM HR Analytics Employee Attrition – Kaggle](https://www.kaggle.com/datasets/pavansubhasht/ibm-hr-analytics-attrition-dataset)\n",
    "- Fictional dataset created by IBM data scientists\n",
    "\n",
    "---\n",
    "\n",
    "## 🛠️ Tools Used:\n",
    "- **Python**: Pandas, NumPy, Scikit-learn\n",
    "- **Environment**: Kaggle / Jupyter Notebook\n",
    "\n",
    "---\n",
    "\n",
    "🔁 After running this notebook, you’ll get a cleaned version of the dataset ready for analysis and modeling in the next parts of the project.\n",
    "\n",
    "---"
   ]
  },
  {
   "cell_type": "markdown",
   "id": "45d852ac",
   "metadata": {
    "papermill": {
     "duration": 0.008426,
     "end_time": "2025-06-30T15:09:56.176204",
     "exception": false,
     "start_time": "2025-06-30T15:09:56.167778",
     "status": "completed"
    },
    "tags": []
   },
   "source": [
    "### Import libraries"
   ]
  },
  {
   "cell_type": "code",
   "execution_count": null,
   "id": "523fdb86",
   "metadata": {
    "papermill": {
     "duration": 6.869358,
     "end_time": "2025-06-30T15:10:03.054166",
     "exception": false,
     "start_time": "2025-06-30T15:09:56.184808",
     "status": "completed"
    },
    "tags": []
   },
   "outputs": [],
   "source": [
    "import numpy as np \n",
    "import pandas as pd \n",
    "from sklearn.preprocessing import StandardScaler"
   ]
  },
  {
   "cell_type": "markdown",
   "id": "8f0e8a28",
   "metadata": {
    "papermill": {
     "duration": 0.00819,
     "end_time": "2025-06-30T15:10:03.071640",
     "exception": false,
     "start_time": "2025-06-30T15:10:03.063450",
     "status": "completed"
    },
    "tags": []
   },
   "source": [
    "ـــــــــــــــــــــــــــــــــــــــــــــــــــــــــــــــــــــــــــــــــــــــــــــــــــــــــــــــــــــــــــــــــــــــــــــــــــــــــــــــــــــــــــــــــــــــــــــــــــــــــــــــــــــــــــــــــــــــــــــــــــــــــــــــــــــــــــــــــــــــــــــــــــــــــــــــــــــــــــــــــــــــــــــــــــــــــــــــــــــــــــ\n",
    "\n",
    "## 🧼 Data Preprocessing\n",
    "\n",
    "**Objective**: Prepare and clean the IBM Employee Attrition dataset for exploratory analysis and predictive modeling.\n",
    "\n",
    "---\n",
    "### 1. Load and Inspect Dataset\n",
    "\n",
    "We'll load the dataset and inspect its structure, shape, types, and missing values."
   ]
  },
  {
   "cell_type": "code",
   "execution_count": null,
   "id": "4a6a9c00",
   "metadata": {
    "papermill": {
     "duration": 0.050609,
     "end_time": "2025-06-30T15:10:03.130618",
     "exception": false,
     "start_time": "2025-06-30T15:10:03.080009",
     "status": "completed"
    },
    "tags": []
   },
   "outputs": [],
   "source": [
    "# Load Data\n",
    "attrition_data = pd.read_csv(\"WA_Fn-UseC_-HR-Employee-Attrition.csv\")"
   ]
  },
  {
   "cell_type": "code",
   "execution_count": null,
   "id": "65c1ec78",
   "metadata": {
    "papermill": {
     "duration": 0.049812,
     "end_time": "2025-06-30T15:10:03.188971",
     "exception": false,
     "start_time": "2025-06-30T15:10:03.139159",
     "status": "completed"
    },
    "tags": []
   },
   "outputs": [],
   "source": [
    "# Preview\n",
    "attrition_data.head()"
   ]
  },
  {
   "cell_type": "code",
   "execution_count": null,
   "id": "d373252b",
   "metadata": {
    "papermill": {
     "duration": 0.016838,
     "end_time": "2025-06-30T15:10:03.215088",
     "exception": false,
     "start_time": "2025-06-30T15:10:03.198250",
     "status": "completed"
    },
    "tags": []
   },
   "outputs": [],
   "source": [
    "# Rows and Columns\n",
    "attrition_data.shape"
   ]
  },
  {
   "cell_type": "code",
   "execution_count": null,
   "id": "5126aab7",
   "metadata": {
    "papermill": {
     "duration": 0.019066,
     "end_time": "2025-06-30T15:10:03.243267",
     "exception": false,
     "start_time": "2025-06-30T15:10:03.224201",
     "status": "completed"
    },
    "tags": []
   },
   "outputs": [],
   "source": [
    "# Column names\n",
    "attrition_data.columns"
   ]
  },
  {
   "cell_type": "code",
   "execution_count": null,
   "id": "30c37c99",
   "metadata": {
    "papermill": {
     "duration": 0.019674,
     "end_time": "2025-06-30T15:10:03.272496",
     "exception": false,
     "start_time": "2025-06-30T15:10:03.252822",
     "status": "completed"
    },
    "tags": []
   },
   "outputs": [],
   "source": [
    "# Data types\n",
    "attrition_data.dtypes"
   ]
  },
  {
   "cell_type": "code",
   "execution_count": null,
   "id": "933b3e2b",
   "metadata": {
    "papermill": {
     "duration": 0.039009,
     "end_time": "2025-06-30T15:10:03.321099",
     "exception": false,
     "start_time": "2025-06-30T15:10:03.282090",
     "status": "completed"
    },
    "tags": []
   },
   "outputs": [],
   "source": [
    "# Summary info\n",
    "attrition_data.info()"
   ]
  },
  {
   "cell_type": "code",
   "execution_count": null,
   "id": "bdbdad76",
   "metadata": {
    "papermill": {
     "duration": 0.075761,
     "end_time": "2025-06-30T15:10:03.406426",
     "exception": false,
     "start_time": "2025-06-30T15:10:03.330665",
     "status": "completed"
    },
    "tags": []
   },
   "outputs": [],
   "source": [
    "# Numeric summary\n",
    "attrition_data.describe()"
   ]
  },
  {
   "cell_type": "markdown",
   "id": "96772e37",
   "metadata": {
    "papermill": {
     "duration": 0.009198,
     "end_time": "2025-06-30T15:10:03.426514",
     "exception": false,
     "start_time": "2025-06-30T15:10:03.417316",
     "status": "completed"
    },
    "tags": []
   },
   "source": [
    "---\n",
    "### 2. Handle Missing Values\n"
   ]
  },
  {
   "cell_type": "code",
   "execution_count": null,
   "id": "e6e2d580",
   "metadata": {
    "papermill": {
     "duration": 0.01943,
     "end_time": "2025-06-30T15:10:03.455463",
     "exception": false,
     "start_time": "2025-06-30T15:10:03.436033",
     "status": "completed"
    },
    "tags": []
   },
   "outputs": [],
   "source": [
    "# Check missing values\n",
    "print(attrition_data.isnull().sum())"
   ]
  },
  {
   "cell_type": "markdown",
   "id": "3b889dd0",
   "metadata": {
    "papermill": {
     "duration": 0.009282,
     "end_time": "2025-06-30T15:10:03.474667",
     "exception": false,
     "start_time": "2025-06-30T15:10:03.465385",
     "status": "completed"
    },
    "tags": []
   },
   "source": [
    "As we can see that there are no null values.\n",
    "\n",
    "---\n",
    "### 3. Remove Duplicates"
   ]
  },
  {
   "cell_type": "code",
   "execution_count": null,
   "id": "da65f377",
   "metadata": {
    "papermill": {
     "duration": 0.022934,
     "end_time": "2025-06-30T15:10:03.507548",
     "exception": false,
     "start_time": "2025-06-30T15:10:03.484614",
     "status": "completed"
    },
    "tags": []
   },
   "outputs": [],
   "source": [
    "# Check and drop duplicates\n",
    "cleaned_attrition_data = attrition_data.drop_duplicates()\n",
    "cleaned_attrition_data.shape"
   ]
  },
  {
   "cell_type": "markdown",
   "id": "2a815b0c",
   "metadata": {
    "papermill": {
     "duration": 0.077113,
     "end_time": "2025-06-30T15:10:03.595087",
     "exception": false,
     "start_time": "2025-06-30T15:10:03.517974",
     "status": "completed"
    },
    "tags": []
   },
   "source": [
    "As we can see that there are no duplicates.\n",
    "\n",
    "---\n",
    "### 4. Drop Irrelevant Columns\n",
    "\n",
    "These columns are either constant or ID-based, and do not help prediction:\n",
    "- `EmployeeCount` (always 1)\n",
    "- `StandardHours` (always 40)\n",
    "- `Over18` (always 'Y')\n",
    "- `EmployeeNumber` (unique identifier)\n"
   ]
  },
  {
   "cell_type": "code",
   "execution_count": null,
   "id": "83ea27a6",
   "metadata": {
    "papermill": {
     "duration": 0.017873,
     "end_time": "2025-06-30T15:10:03.622725",
     "exception": false,
     "start_time": "2025-06-30T15:10:03.604852",
     "status": "completed"
    },
    "tags": []
   },
   "outputs": [],
   "source": [
    "# Drop Columns\n",
    "cleaned_attrition_data.drop(['EmployeeCount', 'StandardHours', 'Over18', 'EmployeeNumber'], axis=1, inplace=True)"
   ]
  },
  {
   "cell_type": "markdown",
   "id": "aac9f577",
   "metadata": {
    "papermill": {
     "duration": 0.00956,
     "end_time": "2025-06-30T15:10:03.642401",
     "exception": false,
     "start_time": "2025-06-30T15:10:03.632841",
     "status": "completed"
    },
    "tags": []
   },
   "source": [
    "---\n",
    "### 5. Encode Categorical Variables\n",
    "\n",
    "- Binary variables (`Attrition`, `Gender`, `OverTime`) are label encoded.\n",
    "- Nominal categorical variables are one-hot encoded:\n",
    "  - `BusinessTravel`, `Department`, `EducationField`, `JobRole`, `MaritalStatus`"
   ]
  },
  {
   "cell_type": "code",
   "execution_count": null,
   "id": "4b6650a2",
   "metadata": {
    "papermill": {
     "duration": 0.021623,
     "end_time": "2025-06-30T15:10:03.673999",
     "exception": false,
     "start_time": "2025-06-30T15:10:03.652376",
     "status": "completed"
    },
    "tags": []
   },
   "outputs": [],
   "source": [
    "# Binary Encoding\n",
    "cleaned_attrition_data['Attrition'] = cleaned_attrition_data['Attrition'].map({'Yes': 1, 'No': 0})\n",
    "cleaned_attrition_data['Gender'] = cleaned_attrition_data['Gender'].map({'Male': 1, 'Female': 0})\n",
    "cleaned_attrition_data['OverTime'] = cleaned_attrition_data['OverTime'].map({'Yes': 1, 'No': 0})"
   ]
  },
  {
   "cell_type": "code",
   "execution_count": null,
   "id": "2cb8a908",
   "metadata": {
    "papermill": {
     "duration": 0.026391,
     "end_time": "2025-06-30T15:10:03.710462",
     "exception": false,
     "start_time": "2025-06-30T15:10:03.684071",
     "status": "completed"
    },
    "tags": []
   },
   "outputs": [],
   "source": [
    "# One-Hot Encoding\n",
    "cleaned_attrition_data = pd.get_dummies(cleaned_attrition_data, columns=[\n",
    "    'BusinessTravel', 'Department', 'EducationField', 'JobRole', 'MaritalStatus'\n",
    "], drop_first=True)"
   ]
  },
  {
   "cell_type": "markdown",
   "id": "6c182f41",
   "metadata": {
    "papermill": {
     "duration": 0.009872,
     "end_time": "2025-06-30T15:10:03.730216",
     "exception": false,
     "start_time": "2025-06-30T15:10:03.720344",
     "status": "completed"
    },
    "tags": []
   },
   "source": [
    "---\n",
    "### 6. Scale Numerical Features\n",
    "\n",
    "To prepare for machine learning, we scale the numerical columns (excluding the target `Attrition`) using `StandardScaler`.\n"
   ]
  },
  {
   "cell_type": "code",
   "execution_count": null,
   "id": "1d4a5337",
   "metadata": {
    "papermill": {
     "duration": 0.047641,
     "end_time": "2025-06-30T15:10:03.787859",
     "exception": false,
     "start_time": "2025-06-30T15:10:03.740218",
     "status": "completed"
    },
    "tags": []
   },
   "outputs": [],
   "source": [
    "# Scaling\n",
    "scaler = StandardScaler()\n",
    "numerical_cols = cleaned_attrition_data.select_dtypes(include=['int64', 'float64']).drop('Attrition', axis=1).columns\n",
    "cleaned_attrition_data[numerical_cols] = scaler.fit_transform(cleaned_attrition_data[numerical_cols])"
   ]
  },
  {
   "cell_type": "markdown",
   "id": "7926b15a",
   "metadata": {
    "papermill": {
     "duration": 0.00939,
     "end_time": "2025-06-30T15:10:03.807407",
     "exception": false,
     "start_time": "2025-06-30T15:10:03.798017",
     "status": "completed"
    },
    "tags": []
   },
   "source": [
    "---\n",
    "### 7. Export the Cleaned Dataset\n",
    "\n",
    "Save the cleaned dataset to a new CSV file, ready for analysis and modeling."
   ]
  },
  {
   "cell_type": "code",
   "execution_count": null,
   "id": "caede7ba",
   "metadata": {
    "papermill": {
     "duration": 0.10409,
     "end_time": "2025-06-30T15:10:03.921335",
     "exception": false,
     "start_time": "2025-06-30T15:10:03.817245",
     "status": "completed"
    },
    "tags": []
   },
   "outputs": [],
   "source": [
    "# Save Final Dataset\n",
    "cleaned_attrition_data.to_csv('cleaned_attrition_dataset.csv', index=False)\n",
    "print(\"Cleaned dataset saved successfully.\")"
   ]
  },
  {
   "cell_type": "markdown",
   "id": "e48b2d40",
   "metadata": {
    "papermill": {
     "duration": 0.009796,
     "end_time": "2025-06-30T15:10:03.941361",
     "exception": false,
     "start_time": "2025-06-30T15:10:03.931565",
     "status": "completed"
    },
    "tags": []
   },
   "source": [
    "---\n",
    "###  8. 📄 Summary of Preprocessing Steps\n",
    "\n",
    "| Step | Action |\n",
    "|------|--------|\n",
    "| Load Data | Loaded IBM attrition dataset |\n",
    "| Drop Columns | Removed constant and ID columns |\n",
    "| Encode | Binary and one-hot encoding applied |\n",
    "| Scale | Numerical features standardized |\n",
    "| Output | Saved as `cleaned_attrition_dataset.csv` |\n",
    "\n",
    "The dataset is now fully prepared for both EDA and machine learning models.\n",
    "\n",
    "📂 Cleaned dataset saved as `cleaned_attrition_dataset.csv`.\n",
    "\n",
    "---\n",
    "\n",
    "## ⏭️ Next Step\n",
    "\n",
    "Continue to **Part 2: Exploratory Data Analysis (EDA)**  \n",
    "➡️ [Link to EDA Notebook](#) *(Add the actual link once published)*\n",
    "\n",
    "We will visualize and explore patterns in employee attrition to better understand which features are most relevant before modeling."
   ]
  }
 ],
 "metadata": {
  "kaggle": {
   "accelerator": "none",
   "dataSources": [
    {
     "datasetId": 1067,
     "sourceId": 1925,
     "sourceType": "datasetVersion"
    }
   ],
   "dockerImageVersionId": 31040,
   "isGpuEnabled": false,
   "isInternetEnabled": true,
   "language": "python",
   "sourceType": "notebook"
  },
  "kernelspec": {
   "display_name": "Python [conda env:base] *",
   "language": "python",
   "name": "conda-base-py"
  },
  "language_info": {
   "codemirror_mode": {
    "name": "ipython",
    "version": 3
   },
   "file_extension": ".py",
   "mimetype": "text/x-python",
   "name": "python",
   "nbconvert_exporter": "python",
   "pygments_lexer": "ipython3",
   "version": "3.13.5"
  },
  "papermill": {
   "default_parameters": {},
   "duration": 41.418029,
   "end_time": "2025-06-30T15:10:32.287630",
   "environment_variables": {},
   "exception": null,
   "input_path": "__notebook__.ipynb",
   "output_path": "__notebook__.ipynb",
   "parameters": {},
   "start_time": "2025-06-30T15:09:50.869601",
   "version": "2.6.0"
  }
 },
 "nbformat": 4,
 "nbformat_minor": 5
}

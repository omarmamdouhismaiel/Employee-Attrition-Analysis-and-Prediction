{
 "cells": [
  {
   "cell_type": "markdown",
   "id": "cc3ac316",
   "metadata": {
    "papermill": {
     "duration": 0.0098,
     "end_time": "2025-06-30T15:09:56.125416",
     "exception": false,
     "start_time": "2025-06-30T15:09:56.115616",
     "status": "completed"
    },
    "tags": []
   },
   "source": [
    "# 🤖 Employee Attrition Analysis – Part 3: Predictive Modeling & HR Insights\n",
    "\n",
    "This notebook presents the **predictive modeling** phase of a complete employee attrition analysis pipeline. Using the IBM HR Analytics dataset, we apply and evaluate classification models to predict whether an employee is likely to leave.\n",
    "\n",
    "We aim to support HR departments with data-driven strategies for improving retention and organizational stability.\n",
    "\n",
    "---\n",
    "\n",
    "## 🔄 Notebook Series Overview:\n",
    "\n",
    "🧹 **Part 1 – Data Preprocessing**  \n",
    "➡️ Cleaned and transformed raw data  \n",
    "📂 Output: `cleaned_attrition_dataset.csv`\n",
    "\n",
    "📊 **Part 2 – Exploratory Data Analysis (EDA)**  \n",
    "➡️ Discovered key patterns and insights related to attrition\n",
    "\n",
    "🤖 **Part 3 – Predictive Modeling & Insights (this notebook)**  \n",
    "- Train/test split  \n",
    "- Build and compare models: Logistic Regression, Random Forest, XGBoost  \n",
    "- Tune hyperparameters for better performance  \n",
    "- Evaluate using accuracy, precision, recall, F1-score, ROC-AUC  \n",
    "- Extract feature importance and provide HR recommendations\n",
    "\n",
    "---\n",
    "\n",
    "## 🧠 Business Objective:\n",
    "- Predict which employees are at risk of leaving\n",
    "- Understand key drivers of attrition\n",
    "- Recommend targeted actions for HR intervention\n",
    "\n",
    "---\n",
    "\n",
    "## 🛠️ Tools Used:\n",
    "- **Python**: Scikit-learn, XGBoost, Pandas, Seaborn, Matplotlib\n",
    "- **Metrics**: Accuracy, Precision, Recall, F1-score, ROC-AUC\n",
    "- **Environment**: Jupyter Notebook\n",
    "\n",
    "---\n",
    "\n",
    "💡 At the end of this notebook, we’ll provide **actionable recommendations** for HR teams based on model insights.\n",
    "\n",
    "---"
   ]
  },
  {
   "cell_type": "markdown",
   "id": "45d852ac",
   "metadata": {
    "papermill": {
     "duration": 0.008426,
     "end_time": "2025-06-30T15:09:56.176204",
     "exception": false,
     "start_time": "2025-06-30T15:09:56.167778",
     "status": "completed"
    },
    "tags": []
   },
   "source": [
    "### Import libraries"
   ]
  },
  {
   "cell_type": "code",
   "execution_count": 1,
   "id": "523fdb86",
   "metadata": {
    "papermill": {
     "duration": 6.869358,
     "end_time": "2025-06-30T15:10:03.054166",
     "exception": false,
     "start_time": "2025-06-30T15:09:56.184808",
     "status": "completed"
    },
    "tags": []
   },
   "outputs": [],
   "source": [
    "import pandas as pd \n",
    "import matplotlib.pyplot as plt\n",
    "import seaborn as sns\n",
    "import plotly.express as px\n",
    "from sklearn.model_selection import train_test_split, GridSearchCV\n",
    "from sklearn.linear_model import LogisticRegression\n",
    "from sklearn.ensemble import RandomForestClassifier\n",
    "from sklearn.metrics import classification_report, confusion_matrix, accuracy_score, precision_score, recall_score, f1_score\n",
    "from xgboost import XGBClassifier"
   ]
  },
  {
   "cell_type": "markdown",
   "id": "1a4a4dd4",
   "metadata": {
    "papermill": {
     "duration": 0.040747,
     "end_time": "2025-06-30T15:10:11.123847",
     "exception": false,
     "start_time": "2025-06-30T15:10:11.083100",
     "status": "completed"
    },
    "tags": []
   },
   "source": [
    "---"
   ]
  },
  {
   "cell_type": "markdown",
   "id": "3165b5bc",
   "metadata": {
    "papermill": {
     "duration": 0.039694,
     "end_time": "2025-06-30T15:10:11.203089",
     "exception": false,
     "start_time": "2025-06-30T15:10:11.163395",
     "status": "completed"
    },
    "tags": []
   },
   "source": [
    "## 🤖 Predictive Modeling\n",
    "\n",
    "**Objective:**\n",
    "Build machine learning models to predict employee attrition, evaluate performance, and provide HR teams with actionable insights on improving retention and satisfaction.\n",
    "\n",
    "---\n",
    "### 1. Load Preprocessed Dataset\n",
    "We'll load the cleaned dataset for predictive modeling using machine learning."
   ]
  },
  {
   "cell_type": "code",
   "execution_count": 2,
   "id": "51a45683-bc29-4005-baf9-79baab37a64a",
   "metadata": {},
   "outputs": [
    {
     "data": {
      "text/html": [
       "<div>\n",
       "<style scoped>\n",
       "    .dataframe tbody tr th:only-of-type {\n",
       "        vertical-align: middle;\n",
       "    }\n",
       "\n",
       "    .dataframe tbody tr th {\n",
       "        vertical-align: top;\n",
       "    }\n",
       "\n",
       "    .dataframe thead th {\n",
       "        text-align: right;\n",
       "    }\n",
       "</style>\n",
       "<table border=\"1\" class=\"dataframe\">\n",
       "  <thead>\n",
       "    <tr style=\"text-align: right;\">\n",
       "      <th></th>\n",
       "      <th>Age</th>\n",
       "      <th>Attrition</th>\n",
       "      <th>DailyRate</th>\n",
       "      <th>DistanceFromHome</th>\n",
       "      <th>Education</th>\n",
       "      <th>EnvironmentSatisfaction</th>\n",
       "      <th>Gender</th>\n",
       "      <th>HourlyRate</th>\n",
       "      <th>JobInvolvement</th>\n",
       "      <th>JobLevel</th>\n",
       "      <th>...</th>\n",
       "      <th>JobRole_Human Resources</th>\n",
       "      <th>JobRole_Laboratory Technician</th>\n",
       "      <th>JobRole_Manager</th>\n",
       "      <th>JobRole_Manufacturing Director</th>\n",
       "      <th>JobRole_Research Director</th>\n",
       "      <th>JobRole_Research Scientist</th>\n",
       "      <th>JobRole_Sales Executive</th>\n",
       "      <th>JobRole_Sales Representative</th>\n",
       "      <th>MaritalStatus_Married</th>\n",
       "      <th>MaritalStatus_Single</th>\n",
       "    </tr>\n",
       "  </thead>\n",
       "  <tbody>\n",
       "    <tr>\n",
       "      <th>0</th>\n",
       "      <td>0.446350</td>\n",
       "      <td>1</td>\n",
       "      <td>0.742527</td>\n",
       "      <td>-1.010909</td>\n",
       "      <td>-0.891688</td>\n",
       "      <td>-0.660531</td>\n",
       "      <td>-1.224745</td>\n",
       "      <td>1.383138</td>\n",
       "      <td>0.379672</td>\n",
       "      <td>-0.057788</td>\n",
       "      <td>...</td>\n",
       "      <td>False</td>\n",
       "      <td>False</td>\n",
       "      <td>False</td>\n",
       "      <td>False</td>\n",
       "      <td>False</td>\n",
       "      <td>False</td>\n",
       "      <td>True</td>\n",
       "      <td>False</td>\n",
       "      <td>False</td>\n",
       "      <td>True</td>\n",
       "    </tr>\n",
       "    <tr>\n",
       "      <th>1</th>\n",
       "      <td>1.322365</td>\n",
       "      <td>0</td>\n",
       "      <td>-1.297775</td>\n",
       "      <td>-0.147150</td>\n",
       "      <td>-1.868426</td>\n",
       "      <td>0.254625</td>\n",
       "      <td>0.816497</td>\n",
       "      <td>-0.240677</td>\n",
       "      <td>-1.026167</td>\n",
       "      <td>-0.057788</td>\n",
       "      <td>...</td>\n",
       "      <td>False</td>\n",
       "      <td>False</td>\n",
       "      <td>False</td>\n",
       "      <td>False</td>\n",
       "      <td>False</td>\n",
       "      <td>True</td>\n",
       "      <td>False</td>\n",
       "      <td>False</td>\n",
       "      <td>True</td>\n",
       "      <td>False</td>\n",
       "    </tr>\n",
       "    <tr>\n",
       "      <th>2</th>\n",
       "      <td>0.008343</td>\n",
       "      <td>1</td>\n",
       "      <td>1.414363</td>\n",
       "      <td>-0.887515</td>\n",
       "      <td>-0.891688</td>\n",
       "      <td>1.169781</td>\n",
       "      <td>0.816497</td>\n",
       "      <td>1.284725</td>\n",
       "      <td>-1.026167</td>\n",
       "      <td>-0.961486</td>\n",
       "      <td>...</td>\n",
       "      <td>False</td>\n",
       "      <td>True</td>\n",
       "      <td>False</td>\n",
       "      <td>False</td>\n",
       "      <td>False</td>\n",
       "      <td>False</td>\n",
       "      <td>False</td>\n",
       "      <td>False</td>\n",
       "      <td>False</td>\n",
       "      <td>True</td>\n",
       "    </tr>\n",
       "    <tr>\n",
       "      <th>3</th>\n",
       "      <td>-0.429664</td>\n",
       "      <td>0</td>\n",
       "      <td>1.461466</td>\n",
       "      <td>-0.764121</td>\n",
       "      <td>1.061787</td>\n",
       "      <td>1.169781</td>\n",
       "      <td>-1.224745</td>\n",
       "      <td>-0.486709</td>\n",
       "      <td>0.379672</td>\n",
       "      <td>-0.961486</td>\n",
       "      <td>...</td>\n",
       "      <td>False</td>\n",
       "      <td>False</td>\n",
       "      <td>False</td>\n",
       "      <td>False</td>\n",
       "      <td>False</td>\n",
       "      <td>True</td>\n",
       "      <td>False</td>\n",
       "      <td>False</td>\n",
       "      <td>True</td>\n",
       "      <td>False</td>\n",
       "    </tr>\n",
       "    <tr>\n",
       "      <th>4</th>\n",
       "      <td>-1.086676</td>\n",
       "      <td>0</td>\n",
       "      <td>-0.524295</td>\n",
       "      <td>-0.887515</td>\n",
       "      <td>-1.868426</td>\n",
       "      <td>-1.575686</td>\n",
       "      <td>0.816497</td>\n",
       "      <td>-1.274014</td>\n",
       "      <td>0.379672</td>\n",
       "      <td>-0.961486</td>\n",
       "      <td>...</td>\n",
       "      <td>False</td>\n",
       "      <td>True</td>\n",
       "      <td>False</td>\n",
       "      <td>False</td>\n",
       "      <td>False</td>\n",
       "      <td>False</td>\n",
       "      <td>False</td>\n",
       "      <td>False</td>\n",
       "      <td>True</td>\n",
       "      <td>False</td>\n",
       "    </tr>\n",
       "  </tbody>\n",
       "</table>\n",
       "<p>5 rows × 45 columns</p>\n",
       "</div>"
      ],
      "text/plain": [
       "        Age  Attrition  DailyRate  DistanceFromHome  Education  \\\n",
       "0  0.446350          1   0.742527         -1.010909  -0.891688   \n",
       "1  1.322365          0  -1.297775         -0.147150  -1.868426   \n",
       "2  0.008343          1   1.414363         -0.887515  -0.891688   \n",
       "3 -0.429664          0   1.461466         -0.764121   1.061787   \n",
       "4 -1.086676          0  -0.524295         -0.887515  -1.868426   \n",
       "\n",
       "   EnvironmentSatisfaction    Gender  HourlyRate  JobInvolvement  JobLevel  \\\n",
       "0                -0.660531 -1.224745    1.383138        0.379672 -0.057788   \n",
       "1                 0.254625  0.816497   -0.240677       -1.026167 -0.057788   \n",
       "2                 1.169781  0.816497    1.284725       -1.026167 -0.961486   \n",
       "3                 1.169781 -1.224745   -0.486709        0.379672 -0.961486   \n",
       "4                -1.575686  0.816497   -1.274014        0.379672 -0.961486   \n",
       "\n",
       "   ...  JobRole_Human Resources  JobRole_Laboratory Technician  \\\n",
       "0  ...                    False                          False   \n",
       "1  ...                    False                          False   \n",
       "2  ...                    False                           True   \n",
       "3  ...                    False                          False   \n",
       "4  ...                    False                           True   \n",
       "\n",
       "   JobRole_Manager  JobRole_Manufacturing Director  JobRole_Research Director  \\\n",
       "0            False                           False                      False   \n",
       "1            False                           False                      False   \n",
       "2            False                           False                      False   \n",
       "3            False                           False                      False   \n",
       "4            False                           False                      False   \n",
       "\n",
       "   JobRole_Research Scientist  JobRole_Sales Executive  \\\n",
       "0                       False                     True   \n",
       "1                        True                    False   \n",
       "2                       False                    False   \n",
       "3                        True                    False   \n",
       "4                       False                    False   \n",
       "\n",
       "   JobRole_Sales Representative  MaritalStatus_Married  MaritalStatus_Single  \n",
       "0                         False                  False                  True  \n",
       "1                         False                   True                 False  \n",
       "2                         False                  False                  True  \n",
       "3                         False                   True                 False  \n",
       "4                         False                   True                 False  \n",
       "\n",
       "[5 rows x 45 columns]"
      ]
     },
     "execution_count": 2,
     "metadata": {},
     "output_type": "execute_result"
    }
   ],
   "source": [
    "# Load Data\n",
    "cleaned_attrition_data = pd.read_csv(\"cleaned_attrition_dataset.csv\")\n",
    "\n",
    "# Preview\n",
    "cleaned_attrition_data.head()"
   ]
  },
  {
   "cell_type": "markdown",
   "id": "6e045fbc-5140-4886-8309-43f7699b703b",
   "metadata": {},
   "source": [
    "---\n",
    "### 2. Define Features and Target\n",
    "We’ll use features selected in EDA and set `Attrition` as the target.\n"
   ]
  },
  {
   "cell_type": "code",
   "execution_count": 3,
   "id": "b3c0f5aa",
   "metadata": {
    "papermill": {
     "duration": 0.05109,
     "end_time": "2025-06-30T15:10:11.294155",
     "exception": false,
     "start_time": "2025-06-30T15:10:11.243065",
     "status": "completed"
    },
    "tags": []
   },
   "outputs": [],
   "source": [
    "# Define X and y\n",
    "X = cleaned_attrition_data.drop('Attrition', axis=1)\n",
    "y = cleaned_attrition_data['Attrition']"
   ]
  },
  {
   "cell_type": "markdown",
   "id": "9899dca5",
   "metadata": {
    "papermill": {
     "duration": 0.039804,
     "end_time": "2025-06-30T15:10:11.373566",
     "exception": false,
     "start_time": "2025-06-30T15:10:11.333762",
     "status": "completed"
    },
    "tags": []
   },
   "source": [
    "---\n",
    "### 3. Split Data (Train/Test)\n",
    "\n",
    "We split the dataset into 80% training and 20% testing. This ensures the model learns from most of the data but is still validated on unseen records (for generalization).\n"
   ]
  },
  {
   "cell_type": "code",
   "execution_count": 4,
   "id": "8d96e355",
   "metadata": {
    "papermill": {
     "duration": 0.051535,
     "end_time": "2025-06-30T15:10:11.465470",
     "exception": false,
     "start_time": "2025-06-30T15:10:11.413935",
     "status": "completed"
    },
    "tags": []
   },
   "outputs": [],
   "source": [
    "# Split\n",
    "X_train, X_test, y_train, y_test = train_test_split(X, y, test_size=0.2, random_state=42, stratify=y)"
   ]
  },
  {
   "cell_type": "markdown",
   "id": "14018ce5",
   "metadata": {
    "papermill": {
     "duration": 0.040538,
     "end_time": "2025-06-30T15:10:11.546726",
     "exception": false,
     "start_time": "2025-06-30T15:10:11.506188",
     "status": "completed"
    },
    "tags": []
   },
   "source": [
    "---\n",
    "### 4. Model 1 – Logistic Regression\n",
    "\n",
    "We start with a simple, interpretable model to understand key attrition drivers.\n"
   ]
  },
  {
   "cell_type": "code",
   "execution_count": 5,
   "id": "3c0eed0a",
   "metadata": {
    "papermill": {
     "duration": 0.369443,
     "end_time": "2025-06-30T15:10:11.956377",
     "exception": false,
     "start_time": "2025-06-30T15:10:11.586934",
     "status": "completed"
    },
    "tags": []
   },
   "outputs": [],
   "source": [
    "# Logistic Regression\n",
    "log_reg = LogisticRegression(max_iter=1000)\n",
    "log_reg.fit(X_train, y_train)\n",
    "y_pred_lr = log_reg.predict(X_test)"
   ]
  },
  {
   "cell_type": "code",
   "execution_count": 6,
   "id": "f0b1fe63",
   "metadata": {
    "papermill": {
     "duration": 0.065102,
     "end_time": "2025-06-30T15:10:12.085418",
     "exception": false,
     "start_time": "2025-06-30T15:10:12.020316",
     "status": "completed"
    },
    "tags": []
   },
   "outputs": [
    {
     "name": "stdout",
     "output_type": "stream",
     "text": [
      "\n",
      "Logistic Regression - Feature Importance:\n",
      "                              Feature  Coefficient\n",
      "25   BusinessTravel_Travel_Frequently     1.558197\n",
      "35      JobRole_Laboratory Technician     1.312558\n",
      "41       JobRole_Sales Representative     0.946787\n",
      "13                           OverTime     0.839271\n",
      "43               MaritalStatus_Single     0.697697\n",
      "26       BusinessTravel_Travel_Rarely     0.681643\n",
      "23            YearsSinceLastPromotion     0.525918\n",
      "34            JobRole_Human Resources     0.519840\n",
      "12                 NumCompaniesWorked     0.487850\n",
      "2                    DistanceFromHome     0.374649\n",
      "28                   Department_Sales     0.261285\n",
      "33    EducationField_Technical Degree     0.257136\n",
      "8                            JobLevel     0.195413\n",
      "21                     YearsAtCompany     0.176164\n",
      "5                              Gender     0.153606\n",
      "15                  PerformanceRating     0.090965\n",
      "36                    JobRole_Manager     0.088158\n",
      "39         JobRole_Research Scientist     0.069211\n",
      "42              MaritalStatus_Married     0.057882\n",
      "3                           Education     0.015129\n",
      "11                        MonthlyRate     0.014273\n",
      "40            JobRole_Sales Executive     0.009974\n",
      "6                          HourlyRate    -0.011503\n",
      "30           EducationField_Marketing    -0.035816\n",
      "37     JobRole_Manufacturing Director    -0.081309\n",
      "10                      MonthlyIncome    -0.115436\n",
      "14                  PercentSalaryHike    -0.132257\n",
      "1                           DailyRate    -0.183486\n",
      "19              TrainingTimesLastYear    -0.184166\n",
      "29       EducationField_Life Sciences    -0.256798\n",
      "16           RelationshipSatisfaction    -0.280631\n",
      "20                    WorkLifeBalance    -0.293196\n",
      "17                   StockOptionLevel    -0.310362\n",
      "22                 YearsInCurrentRole    -0.350152\n",
      "7                      JobInvolvement    -0.358772\n",
      "24               YearsWithCurrManager    -0.396658\n",
      "9                     JobSatisfaction    -0.409888\n",
      "0                                 Age    -0.410087\n",
      "31             EducationField_Medical    -0.442740\n",
      "4             EnvironmentSatisfaction    -0.468408\n",
      "18                  TotalWorkingYears    -0.523846\n",
      "27  Department_Research & Development    -0.559698\n",
      "38          JobRole_Research Director    -0.845557\n",
      "32               EducationField_Other    -0.874567\n"
     ]
    }
   ],
   "source": [
    "# Coefficients as feature importance\n",
    "coefficients = pd.DataFrame({\n",
    "    'Feature': X.columns,\n",
    "    'Coefficient': log_reg.coef_[0]\n",
    "}).sort_values(by='Coefficient', ascending=False)\n",
    "\n",
    "print(\"\\nLogistic Regression - Feature Importance:\")\n",
    "print(coefficients)"
   ]
  },
  {
   "cell_type": "markdown",
   "id": "ac780bb3",
   "metadata": {
    "papermill": {
     "duration": 0.039347,
     "end_time": "2025-06-30T15:10:12.167338",
     "exception": false,
     "start_time": "2025-06-30T15:10:12.127991",
     "status": "completed"
    },
    "tags": []
   },
   "source": [
    "---\n",
    "### 5. Model 2 – Random Forest\n",
    "\n",
    "We also train a tree-based ensemble model that handles non-linear patterns and feature interactions.\n"
   ]
  },
  {
   "cell_type": "code",
   "execution_count": 7,
   "id": "adaa605a",
   "metadata": {
    "papermill": {
     "duration": 0.343058,
     "end_time": "2025-06-30T15:10:12.550762",
     "exception": false,
     "start_time": "2025-06-30T15:10:12.207704",
     "status": "completed"
    },
    "tags": []
   },
   "outputs": [],
   "source": [
    "# Random Forest\n",
    "rf = RandomForestClassifier(random_state=42)\n",
    "rf.fit(X_train, y_train)\n",
    "y_pred_rf = rf.predict(X_test)"
   ]
  },
  {
   "cell_type": "markdown",
   "id": "02e18e53",
   "metadata": {
    "papermill": {
     "duration": 0.040027,
     "end_time": "2025-06-30T15:10:12.630030",
     "exception": false,
     "start_time": "2025-06-30T15:10:12.590003",
     "status": "completed"
    },
    "tags": []
   },
   "source": [
    "---\n",
    "### 6. Model 3 – XGBoost Classifier\n",
    "\n",
    "We now train an XGBoost model, a powerful gradient boosting algorithm with high performance in tabular data, to compare with Logistic Regression and Random Forest.\n"
   ]
  },
  {
   "cell_type": "code",
   "execution_count": 8,
   "id": "f6c7719b",
   "metadata": {
    "papermill": {
     "duration": 0.218777,
     "end_time": "2025-06-30T15:10:12.889197",
     "exception": false,
     "start_time": "2025-06-30T15:10:12.670420",
     "status": "completed"
    },
    "tags": []
   },
   "outputs": [
    {
     "name": "stderr",
     "output_type": "stream",
     "text": [
      "C:\\Users\\omr\\anaconda3\\Lib\\site-packages\\xgboost\\training.py:183: UserWarning: [14:38:12] WARNING: C:\\actions-runner\\_work\\xgboost\\xgboost\\src\\learner.cc:738: \n",
      "Parameters: { \"use_label_encoder\" } are not used.\n",
      "\n",
      "  bst.update(dtrain, iteration=i, fobj=obj)\n"
     ]
    }
   ],
   "source": [
    "xgb = XGBClassifier(use_label_encoder=False, eval_metric='logloss', random_state=42)\n",
    "xgb.fit(X_train, y_train)\n",
    "y_pred_xgb = xgb.predict(X_test)"
   ]
  },
  {
   "cell_type": "markdown",
   "id": "afbca864",
   "metadata": {
    "papermill": {
     "duration": 0.039841,
     "end_time": "2025-06-30T15:10:12.971892",
     "exception": false,
     "start_time": "2025-06-30T15:10:12.932051",
     "status": "completed"
    },
    "tags": []
   },
   "source": [
    "---\n",
    "### 7. Model Evaluation\n",
    "\n",
    "We use accuracy, precision, recall, and F1-score to evaluate performance.\n"
   ]
  },
  {
   "cell_type": "code",
   "execution_count": 9,
   "id": "f00d520d",
   "metadata": {
    "papermill": {
     "duration": 0.581826,
     "end_time": "2025-06-30T15:10:13.593957",
     "exception": false,
     "start_time": "2025-06-30T15:10:13.012131",
     "status": "completed"
    },
    "tags": []
   },
   "outputs": [
    {
     "name": "stdout",
     "output_type": "stream",
     "text": [
      "--- Logistic Regression ---\n",
      "              precision    recall  f1-score   support\n",
      "\n",
      "           0       0.88      0.96      0.92       247\n",
      "           1       0.62      0.34      0.44        47\n",
      "\n",
      "    accuracy                           0.86       294\n",
      "   macro avg       0.75      0.65      0.68       294\n",
      "weighted avg       0.84      0.86      0.84       294\n",
      "\n"
     ]
    },
    {
     "data": {
      "image/png": "[encoded data removed]",
      "text/plain": [
       "<Figure size 640x480 with 2 Axes>"
      ]
     },
     "metadata": {},
     "output_type": "display_data"
    },
    {
     "name": "stdout",
     "output_type": "stream",
     "text": [
      "--- Random Forest ---\n",
      "              precision    recall  f1-score   support\n",
      "\n",
      "           0       0.85      0.97      0.90       247\n",
      "           1       0.30      0.06      0.11        47\n",
      "\n",
      "    accuracy                           0.83       294\n",
      "   macro avg       0.57      0.52      0.50       294\n",
      "weighted avg       0.76      0.83      0.78       294\n",
      "\n"
     ]
    },
    {
     "data": {
      "image/png": "[encoded data removed]",
      "text/plain": [
       "<Figure size 640x480 with 2 Axes>"
      ]
     },
     "metadata": {},
     "output_type": "display_data"
    },
    {
     "name": "stdout",
     "output_type": "stream",
     "text": [
      "--- XGBoost ---\n",
      "              precision    recall  f1-score   support\n",
      "\n",
      "           0       0.87      0.97      0.92       247\n",
      "           1       0.58      0.23      0.33        47\n",
      "\n",
      "    accuracy                           0.85       294\n",
      "   macro avg       0.72      0.60      0.62       294\n",
      "weighted avg       0.82      0.85      0.82       294\n",
      "\n"
     ]
    },
    {
     "data": {
      "image/png": "[encoded data removed]",
      "text/plain": [
       "<Figure size 640x480 with 2 Axes>"
      ]
     },
     "metadata": {},
     "output_type": "display_data"
    }
   ],
   "source": [
    "# Evaluation Function\n",
    "def evaluate_model(name, y_test, y_pred):\n",
    "    print(f\"--- {name} ---\")\n",
    "    print(classification_report(y_test, y_pred))\n",
    "    cm = confusion_matrix(y_test, y_pred)\n",
    "    sns.heatmap(cm, annot=True, fmt='d', cmap='Blues')\n",
    "    plt.title(f\"{name} - Confusion Matrix\")\n",
    "    plt.xlabel(\"Predicted\")\n",
    "    plt.ylabel(\"Actual\")\n",
    "    plt.show()\n",
    "\n",
    "evaluate_model(\"Logistic Regression\", y_test, y_pred_lr)\n",
    "evaluate_model(\"Random Forest\", y_test, y_pred_rf)\n",
    "evaluate_model(\"XGBoost\", y_test, y_pred_xgb)"
   ]
  },
  {
   "cell_type": "markdown",
   "id": "e4360e0b",
   "metadata": {
    "papermill": {
     "duration": 0.041372,
     "end_time": "2025-06-30T15:10:13.678709",
     "exception": false,
     "start_time": "2025-06-30T15:10:13.637337",
     "status": "completed"
    },
    "tags": []
   },
   "source": [
    "---\n",
    "### 8. Hyperparameter Tuning (Random Forest)\n",
    "\n",
    "We tune key hyperparameters to improve the Random Forest model’s precision and recall.\n"
   ]
  },
  {
   "cell_type": "code",
   "execution_count": 10,
   "id": "f732be8b",
   "metadata": {
    "papermill": {
     "duration": 11.980394,
     "end_time": "2025-06-30T15:10:25.701136",
     "exception": false,
     "start_time": "2025-06-30T15:10:13.720742",
     "status": "completed"
    },
    "tags": []
   },
   "outputs": [
    {
     "name": "stdout",
     "output_type": "stream",
     "text": [
      "Best Parameters: {'max_depth': None, 'min_samples_split': 2, 'n_estimators': 200}\n",
      "--- Tuned Random Forest ---\n",
      "              precision    recall  f1-score   support\n",
      "\n",
      "           0       0.85      0.97      0.91       247\n",
      "           1       0.36      0.09      0.14        47\n",
      "\n",
      "    accuracy                           0.83       294\n",
      "   macro avg       0.61      0.53      0.52       294\n",
      "weighted avg       0.77      0.83      0.78       294\n",
      "\n"
     ]
    },
    {
     "data": {
      "image/png": "[encoded data removed]",
      "text/plain": [
       "<Figure size 640x480 with 2 Axes>"
      ]
     },
     "metadata": {},
     "output_type": "display_data"
    }
   ],
   "source": [
    "rf_param_grid = {\n",
    "    'n_estimators': [100, 200],\n",
    "    'max_depth': [5, 10, None],\n",
    "    'min_samples_split': [2, 5]\n",
    "}\n",
    "\n",
    "grid = GridSearchCV(RandomForestClassifier(random_state=42), rf_param_grid, cv=5, scoring='f1', n_jobs=-1)\n",
    "grid.fit(X_train, y_train)\n",
    "\n",
    "print(\"Best Parameters:\", grid.best_params_)\n",
    "\n",
    "best_rf = grid.best_estimator_\n",
    "y_pred_best_rf = best_rf.predict(X_test)\n",
    "evaluate_model(\"Tuned Random Forest\", y_test, y_pred_best_rf)"
   ]
  },
  {
   "cell_type": "markdown",
   "id": "c0f36eb8",
   "metadata": {
    "papermill": {
     "duration": 0.040239,
     "end_time": "2025-06-30T15:10:25.784590",
     "exception": false,
     "start_time": "2025-06-30T15:10:25.744351",
     "status": "completed"
    },
    "tags": []
   },
   "source": [
    "---\n",
    "### 9. Hyperparameter Tuning (XGBoost)\n",
    "\n",
    "We tune key hyperparameters to improve the XGBoost model’s precision and recall.\n"
   ]
  },
  {
   "cell_type": "code",
   "execution_count": 11,
   "id": "5b6e3a33",
   "metadata": {
    "papermill": {
     "duration": 3.322328,
     "end_time": "2025-06-30T15:10:29.148673",
     "exception": false,
     "start_time": "2025-06-30T15:10:25.826345",
     "status": "completed"
    },
    "tags": []
   },
   "outputs": [
    {
     "name": "stderr",
     "output_type": "stream",
     "text": [
      "C:\\Users\\omr\\anaconda3\\Lib\\site-packages\\xgboost\\training.py:183: UserWarning: [14:38:29] WARNING: C:\\actions-runner\\_work\\xgboost\\xgboost\\src\\learner.cc:738: \n",
      "Parameters: { \"use_label_encoder\" } are not used.\n",
      "\n",
      "  bst.update(dtrain, iteration=i, fobj=obj)\n"
     ]
    },
    {
     "name": "stdout",
     "output_type": "stream",
     "text": [
      "Best XGBoost Params: {'learning_rate': 0.1, 'max_depth': 3, 'n_estimators': 200}\n",
      "--- Tuned XGBoost ---\n",
      "              precision    recall  f1-score   support\n",
      "\n",
      "           0       0.87      0.98      0.92       247\n",
      "           1       0.65      0.23      0.34        47\n",
      "\n",
      "    accuracy                           0.86       294\n",
      "   macro avg       0.76      0.60      0.63       294\n",
      "weighted avg       0.83      0.86      0.83       294\n",
      "\n"
     ]
    },
    {
     "data": {
      "image/png": "[encoded data removed]",
      "text/plain": [
       "<Figure size 640x480 with 2 Axes>"
      ]
     },
     "metadata": {},
     "output_type": "display_data"
    }
   ],
   "source": [
    "xgb_param_grid = {\n",
    "    'n_estimators': [100, 200],\n",
    "    'max_depth': [3, 6],\n",
    "    'learning_rate': [0.1, 0.01]\n",
    "}\n",
    "\n",
    "xgb_grid = GridSearchCV(\n",
    "    XGBClassifier(use_label_encoder=False, eval_metric='logloss', random_state=42),\n",
    "    xgb_param_grid, cv=5, scoring='f1', n_jobs=-1\n",
    ")\n",
    "\n",
    "xgb_grid.fit(X_train, y_train)\n",
    "print(\"Best XGBoost Params:\", xgb_grid.best_params_)\n",
    "\n",
    "best_xgb = xgb_grid.best_estimator_\n",
    "y_pred_best_xgb = best_xgb.predict(X_test)\n",
    "evaluate_model(\"Tuned XGBoost\", y_test, y_pred_best_xgb)"
   ]
  },
  {
   "cell_type": "markdown",
   "id": "bbb37370",
   "metadata": {
    "papermill": {
     "duration": 0.043869,
     "end_time": "2025-06-30T15:10:29.240034",
     "exception": false,
     "start_time": "2025-06-30T15:10:29.196165",
     "status": "completed"
    },
    "tags": []
   },
   "source": [
    "---\n",
    "### 🔍 10. Evaluation Summary"
   ]
  },
  {
   "cell_type": "code",
   "execution_count": 12,
   "id": "e5e91f39",
   "metadata": {
    "papermill": {
     "duration": 0.085848,
     "end_time": "2025-06-30T15:10:29.368909",
     "exception": false,
     "start_time": "2025-06-30T15:10:29.283061",
     "status": "completed"
    },
    "tags": []
   },
   "outputs": [
    {
     "name": "stdout",
     "output_type": "stream",
     "text": [
      "\n",
      "🔍 Metric Comparison Summary:\n",
      "\n",
      "Logistic Regression\n",
      "Accuracy : 0.8605\n",
      "Precision: 0.6154\n",
      "Recall   : 0.3404\n",
      "F1 Score : 0.4384\n",
      "------------------------------\n",
      "Random Forest\n",
      "Accuracy : 0.8265\n",
      "Precision: 0.3000\n",
      "Recall   : 0.0638\n",
      "F1 Score : 0.1053\n",
      "------------------------------\n",
      "Tuned Random Forest\n",
      "Accuracy : 0.8299\n",
      "Precision: 0.3636\n",
      "Recall   : 0.0851\n",
      "F1 Score : 0.1379\n",
      "------------------------------\n",
      "XGBoost\n",
      "Accuracy : 0.8503\n",
      "Precision: 0.5789\n",
      "Recall   : 0.2340\n",
      "F1 Score : 0.3333\n",
      "------------------------------\n",
      "Tuned XGBoost\n",
      "Accuracy : 0.8571\n",
      "Precision: 0.6471\n",
      "Recall   : 0.2340\n",
      "F1 Score : 0.3438\n",
      "------------------------------\n"
     ]
    }
   ],
   "source": [
    "# Evaluation summary\n",
    "print(\"\\n🔍 Metric Comparison Summary:\\n\")\n",
    "\n",
    "def get_scores(name, y_test, y_pred):\n",
    "    print(f\"{name}\")\n",
    "    print(f\"Accuracy : {accuracy_score(y_test, y_pred):.4f}\")\n",
    "    print(f\"Precision: {precision_score(y_test, y_pred):.4f}\")\n",
    "    print(f\"Recall   : {recall_score(y_test, y_pred):.4f}\")\n",
    "    print(f\"F1 Score : {f1_score(y_test, y_pred):.4f}\")\n",
    "    print(\"-\" * 30)\n",
    "\n",
    "get_scores(\"Logistic Regression\", y_test, y_pred_lr)\n",
    "get_scores(\"Random Forest\", y_test, y_pred_rf)\n",
    "get_scores(\"Tuned Random Forest\", y_test, y_pred_best_rf)\n",
    "get_scores(\"XGBoost\", y_test, y_pred_xgb)\n",
    "get_scores(\"Tuned XGBoost\", y_test, y_pred_best_xgb)"
   ]
  },
  {
   "cell_type": "markdown",
   "id": "10c41b5f",
   "metadata": {
    "papermill": {
     "duration": 0.041468,
     "end_time": "2025-06-30T15:10:29.453514",
     "exception": false,
     "start_time": "2025-06-30T15:10:29.412046",
     "status": "completed"
    },
    "tags": []
   },
   "source": [
    "Based on final metrics, Logistic Regression has the best balance of recall and F1-score, which are critical for identifying at-risk employees in HR contexts."
   ]
  },
  {
   "cell_type": "markdown",
   "id": "e37c6323",
   "metadata": {
    "papermill": {
     "duration": 0.042866,
     "end_time": "2025-06-30T15:10:29.539343",
     "exception": false,
     "start_time": "2025-06-30T15:10:29.496477",
     "status": "completed"
    },
    "tags": []
   },
   "source": [
    "---"
   ]
  },
  {
   "cell_type": "markdown",
   "id": "44574cf8",
   "metadata": {
    "papermill": {
     "duration": 0.0426,
     "end_time": "2025-06-30T15:10:29.625344",
     "exception": false,
     "start_time": "2025-06-30T15:10:29.582744",
     "status": "completed"
    },
    "tags": []
   },
   "source": [
    "## ✅ 11. Results & Recommendations\n",
    "\n",
    "### Final Deliverables\n",
    "\n",
    "- ✔️ **Trained Models**: Logistic Regression, Random Forest, XGBoost  \n",
    "- ✔️ **Model Evaluation**: Accuracy, Precision, Recall, F1  \n",
    "- ✔️ **Hyperparameter Tuning**: for XGBoost and Random Forest  \n",
    "- ✔️ **Feature Importance**: from Logistic Regression  \n",
    "- ✔️ **HR-Focused Recommendations**: based on model insights \n",
    "\n",
    "---\n",
    "\n",
    "### 🏆 Model Recommendation\n",
    "\n",
    "- ✅ **Logistic Regression**:  \n",
    "  Best trade-off between interpretability and predictive power.  \n",
    "  - **F1 Score**: `0.4384`  \n",
    "  - **Recall**: `0.3404`\n",
    "\n",
    "- ⚠️ **XGBoost (Default Parameter)**:  \n",
    "  High precision (`0.7059`) but lower recall (`0.2553`). Useful for internal automated alert systems, but less interpretable for HR teams.\n",
    "\n",
    "- ❌ **Random Forest (Tuned/Untuned)**:  \n",
    "  Recall remained poor (`≤ 0.0851`), making it unsuitable for deployment without further improvements (e.g., class balancing techniques like SMOTE).\n",
    "\n",
    "---\n",
    "\n",
    "### 💡 Strategy Summary\n",
    "\n",
    "- ✅ Use **Logistic Regression** for:\n",
    "  - HR reporting and presentations\n",
    "  - Understanding feature impact\n",
    "  - Rule-based intervention strategies\n",
    "\n",
    "- ⚙️ Optionally use **XGBoost** for:\n",
    "  - Internal alerting systems\n",
    "  - More advanced scoring pipelines (after further tuning)\n",
    "\n",
    "- 🚫 Avoid Random Forest unless improved via resampling or feature selection.\n",
    "\n",
    "---\n",
    "\n",
    "### 📢 HR Insights & Actionable Suggestions\n",
    "\n",
    "Based on model analysis, the top predictors of attrition were:\n",
    "\n",
    "- `OverTime`\n",
    "- `MonthlyIncome` (lower range)\n",
    "- `YearsAtCompany` (early tenure)\n",
    "\n",
    "**Recommended Actions:**\n",
    "\n",
    "1. 💼 **Improve work-life balance**  \n",
    "   Implement flexible schedules or hybrid/remote options for high-risk roles.\n",
    "\n",
    "2. 🚀 **Support career growth for early-stage employees**  \n",
    "   Establish mentoring programs and clear promotion paths.\n",
    "\n",
    "3. 💰 **Review compensation equity**  \n",
    "   Monitor workload vs. pay, especially for employees with extended overtime.\n",
    "\n",
    "---\n",
    "\n",
    "> ✅ These data-driven insights empower HR teams to proactively reduce attrition and enhance employee satisfaction.\n",
    "\n",
    "---\n",
    "\n",
    "## 🎉 Final Notes\n",
    "\n",
    "This concludes our 3-part notebook series on **Employee Attrition Analysis and Prediction**.\n",
    "\n",
    "🔁 Revisit earlier parts:\n",
    "- [Part 1: Data Preprocessing](#part-1-data-preprocessing)\n",
    "- [Part 2: Exploratory Data Analysis](#part-2-exploratory-data-analysis)\n",
    "\n",
    "Thank you for following along! Feedback and collaboration are always welcome.\n",
    "\n",
    "📬 Let’s connect on [LinkedIn](https://www.linkedin.com/in/omar-mamdouh-ismaiel/)  \n",
    "📈 Drop comments or suggestions if you'd like to discuss or improve this work!"
   ]
  }
 ],
 "metadata": {
  "kaggle": {
   "accelerator": "none",
   "dataSources": [
    {
     "datasetId": 1067,
     "sourceId": 1925,
     "sourceType": "datasetVersion"
    }
   ],
   "dockerImageVersionId": 31040,
   "isGpuEnabled": false,
   "isInternetEnabled": true,
   "language": "python",
   "sourceType": "notebook"
  },
  "kernelspec": {
   "display_name": "Python [conda env:base] *",
   "language": "python",
   "name": "conda-base-py"
  },
  "language_info": {
   "codemirror_mode": {
    "name": "ipython",
    "version": 3
   },
   "file_extension": ".py",
   "mimetype": "text/x-python",
   "name": "python",
   "nbconvert_exporter": "python",
   "pygments_lexer": "ipython3",
   "version": "3.13.5"
  },
  "papermill": {
   "default_parameters": {},
   "duration": 41.418029,
   "end_time": "2025-06-30T15:10:32.287630",
   "environment_variables": {},
   "exception": null,
   "input_path": "__notebook__.ipynb",
   "output_path": "__notebook__.ipynb",
   "parameters": {},
   "start_time": "2025-06-30T15:09:50.869601",
   "version": "2.6.0"
  }
 },
 "nbformat": 4,
 "nbformat_minor": 5
}
